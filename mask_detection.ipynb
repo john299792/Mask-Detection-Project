{
  "nbformat": 4,
  "nbformat_minor": 0,
  "metadata": {
    "colab": {
      "name": "mask-detection.ipynb",
      "provenance": [],
      "authorship_tag": "ABX9TyPCr2t0wI5YAXs5ORIaZY2x",
      "include_colab_link": true
    },
    "kernelspec": {
      "name": "python3",
      "display_name": "Python 3"
    }
  },
  "cells": [
    {
      "cell_type": "markdown",
      "metadata": {
        "id": "view-in-github",
        "colab_type": "text"
      },
      "source": [
        "<a href=\"https://colab.research.google.com/github/sosodev/Mask-Detection-Project/blob/master/mask_detection.ipynb\" target=\"_parent\"><img src=\"https://colab.research.google.com/assets/colab-badge.svg\" alt=\"Open In Colab\"/></a>"
      ]
    },
    {
      "cell_type": "code",
      "metadata": {
        "id": "hm1mOYXEjFNy",
        "colab_type": "code",
        "colab": {
          "base_uri": "https://localhost:8080/",
          "height": 34
        },
        "outputId": "34784983-9306-45b2-b325-81ac9ec78c13"
      },
      "source": [
        "import tensorflow as tf\n",
        "\n",
        "print('Tensorflow version: ' + tf.__version__)"
      ],
      "execution_count": 2,
      "outputs": [
        {
          "output_type": "stream",
          "text": [
            "Tensorflow version: 2.2.0-rc3\n"
          ],
          "name": "stdout"
        }
      ]
    }
  ]
}